{
 "cells": [
  {
   "cell_type": "code",
   "execution_count": 11,
   "metadata": {},
   "outputs": [
    {
     "name": "stdout",
     "output_type": "stream",
     "text": [
      "3 6 9 12 15 18 \n",
      "5 10 15 20 25 "
     ]
    }
   ],
   "source": [
    "class MultipleIterator:\n",
    "    def __init__(self, stop, multiple):\n",
    "        self.current = 1\n",
    "        self.stop = stop\n",
    "        self.multiple = multiple \n",
    " \n",
    "    def __iter__(self):\n",
    "        return self\n",
    " \n",
    "    def __next__(self):\n",
    "        result = self.multiple * self.current\n",
    "        if result >= self.stop:\n",
    "            raise StopIteration\n",
    "        else:\n",
    "            self.current += 1\n",
    "            return result\n",
    " \n",
    "for i in MultipleIterator(20, 3):\n",
    "    print(i, end=' ')\n",
    " \n",
    "print()\n",
    "for i in MultipleIterator(30, 5):\n",
    "    print(i, end=' ')"
   ]
  },
  {
   "cell_type": "markdown",
   "metadata": {},
   "source": [
    "## 실행결과\n",
    "\n",
    "3 6 9 12 15 18 <br>\n",
    "5 10 15 20 25"
   ]
  }
 ],
 "metadata": {
  "kernelspec": {
   "display_name": "Python 3",
   "language": "python",
   "name": "python3"
  },
  "language_info": {
   "codemirror_mode": {
    "name": "ipython",
    "version": 3
   },
   "file_extension": ".py",
   "mimetype": "text/x-python",
   "name": "python",
   "nbconvert_exporter": "python",
   "pygments_lexer": "ipython3",
   "version": "3.7.6"
  }
 },
 "nbformat": 4,
 "nbformat_minor": 4
}
